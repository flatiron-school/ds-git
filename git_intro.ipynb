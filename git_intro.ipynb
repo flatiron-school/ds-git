{
 "cells": [
  {
   "cell_type": "markdown",
   "metadata": {
    "toc": true
   },
   "source": [
    "<h1>Table of Contents<span class=\"tocSkip\"></span></h1>\n",
    "<div class=\"toc\"><ul class=\"toc-item\"><li><span><a href=\"#Version-Control\" data-toc-modified-id=\"Version-Control-1\"><span class=\"toc-item-num\">1&nbsp;&nbsp;</span>Version Control</a></span><ul class=\"toc-item\"><li><span><a href=\"#Q:-Why-do-you-think-version-control-is-important?-Can-you-think-of-a-use-case?\" data-toc-modified-id=\"Q:-Why-do-you-think-version-control-is-important?-Can-you-think-of-a-use-case?-1.1\"><span class=\"toc-item-num\">1.1&nbsp;&nbsp;</span>Q: Why do you think version control is important? Can you think of a use case?</a></span></li><li><span><a href=\"#Options\" data-toc-modified-id=\"Options-1.2\"><span class=\"toc-item-num\">1.2&nbsp;&nbsp;</span>Options</a></span></li></ul></li><li><span><a href=\"#Git-is-Super-Common\" data-toc-modified-id=\"Git-is-Super-Common-2\"><span class=\"toc-item-num\">2&nbsp;&nbsp;</span>Git is Super Common</a></span></li><li><span><a href=\"#Basic-git-Workflow\" data-toc-modified-id=\"Basic-git-Workflow-3\"><span class=\"toc-item-num\">3&nbsp;&nbsp;</span>Basic <code>git</code> Workflow</a></span></li><li><span><a href=\"#Creating-a-Repo\" data-toc-modified-id=\"Creating-a-Repo-4\"><span class=\"toc-item-num\">4&nbsp;&nbsp;</span>Creating a Repo</a></span><ul class=\"toc-item\"><li><span><a href=\"#With-GitHub\" data-toc-modified-id=\"With-GitHub-4.1\"><span class=\"toc-item-num\">4.1&nbsp;&nbsp;</span>With GitHub</a></span></li><li><span><a href=\"#From-Local\" data-toc-modified-id=\"From-Local-4.2\"><span class=\"toc-item-num\">4.2&nbsp;&nbsp;</span>From Local</a></span></li><li><span><a href=\"#Get-Changes-to-Local\" data-toc-modified-id=\"Get-Changes-to-Local-4.3\"><span class=\"toc-item-num\">4.3&nbsp;&nbsp;</span>Get Changes to Local</a></span></li></ul></li><li><span><a href=\"#Collaborating-with-Git:-Branches\" data-toc-modified-id=\"Collaborating-with-Git:-Branches-5\"><span class=\"toc-item-num\">5&nbsp;&nbsp;</span>Collaborating with Git: Branches</a></span><ul class=\"toc-item\"><li><span><a href=\"#Looking-at-our-branches\" data-toc-modified-id=\"Looking-at-our-branches-5.1\"><span class=\"toc-item-num\">5.1&nbsp;&nbsp;</span>Looking at our branches</a></span></li><li><span><a href=\"#Checking-out-a-library-book-a-branch\" data-toc-modified-id=\"Checking-out-a-library-book-a-branch-5.2\"><span class=\"toc-item-num\">5.2&nbsp;&nbsp;</span>Checking out a <del>library book</del> a branch</a></span><ul class=\"toc-item\"><li><span><a href=\"#Creating-a-new-branch\" data-toc-modified-id=\"Creating-a-new-branch-5.2.1\"><span class=\"toc-item-num\">5.2.1&nbsp;&nbsp;</span>Creating a new branch</a></span></li><li><span><a href=\"#Work-on-an-existing-branch\" data-toc-modified-id=\"Work-on-an-existing-branch-5.2.2\"><span class=\"toc-item-num\">5.2.2&nbsp;&nbsp;</span>Work on an existing branch</a></span><ul class=\"toc-item\"><li><span><a href=\"#Extra-note-on-checking-out-a-commit\" data-toc-modified-id=\"Extra-note-on-checking-out-a-commit-5.2.2.1\"><span class=\"toc-item-num\">5.2.2.1&nbsp;&nbsp;</span>Extra note on checking out a commit</a></span></li></ul></li><li><span><a href=\"#A-note-on-remote-branches\" data-toc-modified-id=\"A-note-on-remote-branches-5.2.3\"><span class=\"toc-item-num\">5.2.3&nbsp;&nbsp;</span>A note on remote branches</a></span></li></ul></li></ul></li><li><span><a href=\"#Merges\" data-toc-modified-id=\"Merges-6\"><span class=\"toc-item-num\">6&nbsp;&nbsp;</span>Merges</a></span><ul class=\"toc-item\"><li><span><a href=\"#When-There's-Conflict\" data-toc-modified-id=\"When-There's-Conflict-6.1\"><span class=\"toc-item-num\">6.1&nbsp;&nbsp;</span>When There's Conflict</a></span></li></ul></li></ul></div>"
   ]
  },
  {
   "cell_type": "markdown",
   "metadata": {},
   "source": [
    "# Version Control"
   ]
  },
  {
   "cell_type": "markdown",
   "metadata": {},
   "source": [
    "## Q: Why do you think version control is important? Can you think of a use case?"
   ]
  },
  {
   "cell_type": "markdown",
   "metadata": {},
   "source": [
    "## Options"
   ]
  },
  {
   "cell_type": "markdown",
   "metadata": {},
   "source": [
    "<img src='https://i.redd.it/ckj3io6qf1y01.jpg' width=60%/>"
   ]
  },
  {
   "cell_type": "markdown",
   "metadata": {},
   "source": [
    "![](https://www.reddit.com/r/ProgrammerHumor/comments/8jmgh2/version_control/)"
   ]
  },
  {
   "cell_type": "markdown",
   "metadata": {},
   "source": [
    "- Saving a new file each change is frustrating and can be too much over time!\n",
    "- subversion: lockout one editor at a time\n",
    "- `git` or Git: save just the changes!"
   ]
  },
  {
   "cell_type": "markdown",
   "metadata": {},
   "source": [
    "# Git is Super Common"
   ]
  },
  {
   "cell_type": "markdown",
   "metadata": {},
   "source": [
    "https://insights.stackoverflow.com/survey/2018/#work-_-version-control"
   ]
  },
  {
   "cell_type": "markdown",
   "metadata": {},
   "source": [
    "<img src='https://imgs.xkcd.com/comics/git.png'/>"
   ]
  },
  {
   "cell_type": "markdown",
   "metadata": {},
   "source": [
    "# Basic `git` Workflow"
   ]
  },
  {
   "cell_type": "markdown",
   "metadata": {},
   "source": [
    "<img src='https://res.cloudinary.com/practicaldev/image/fetch/s--Si7ksd-d--/c_limit%2Cf_auto%2Cfl_progressive%2Cq_auto%2Cw_880/https://cdn-images-1.medium.com/max/800/1%2AdiRLm1S5hkVoh5qeArND0Q.png'/>\n",
    "\n",
    "> Source: https://dev.to/sublimegeek/git-staging-area-explained-like-im-five-1anh"
   ]
  },
  {
   "cell_type": "markdown",
   "metadata": {},
   "source": [
    "```\n",
    "git add file_or_files\n",
    "git commit -m \"Message\"\n",
    "git push\n",
    "```"
   ]
  },
  {
   "cell_type": "markdown",
   "metadata": {},
   "source": [
    "- `git status`: what is staged? working directory?\n",
    "- `git diff`: differences between commits or working directory\n",
    "- `git log`: all the changes"
   ]
  },
  {
   "cell_type": "markdown",
   "metadata": {},
   "source": [
    "# Creating a Repo"
   ]
  },
  {
   "cell_type": "markdown",
   "metadata": {},
   "source": [
    "## With GitHub"
   ]
  },
  {
   "cell_type": "markdown",
   "metadata": {},
   "source": [
    "Create the repo on your local machine via GitHub (repo already has to exist)\n",
    "\n",
    "```\n",
    "git clone url_from_github\n",
    "```"
   ]
  },
  {
   "cell_type": "markdown",
   "metadata": {},
   "source": [
    "## From Local"
   ]
  },
  {
   "cell_type": "markdown",
   "metadata": {},
   "source": [
    "```\n",
    "git init\n",
    "git add .\n",
    "git commit -m \"First commit\"\n",
    "```"
   ]
  },
  {
   "cell_type": "markdown",
   "metadata": {},
   "source": [
    "Syncing up with GitHub:\n",
    "\n",
    "```\n",
    "git remote add origin the_url_for_the_repo\n",
    "git push -u origin master\n",
    "```"
   ]
  },
  {
   "cell_type": "markdown",
   "metadata": {},
   "source": [
    "This command above will also set up an **upstream** which you can think of as a path to push your current branch (see [git_collaboration.ipynb](git_collaboration.ipynb) for more about branches) to the remote repository."
   ]
  },
  {
   "cell_type": "markdown",
   "metadata": {},
   "source": [
    "## Get Changes to Local"
   ]
  },
  {
   "cell_type": "markdown",
   "metadata": {},
   "source": [
    "This is is an important step in making sure your remote branch (GitHub) and your local branch are in sync. If you make changes to your GitHub repo ***you should do a `git pull` first*** or else face the wrath of a **[merge conflict](git_advanced.ipynb)**. "
   ]
  },
  {
   "cell_type": "markdown",
   "metadata": {},
   "source": [
    "```\n",
    "git pull\n",
    "```"
   ]
  },
  {
   "cell_type": "markdown",
   "metadata": {},
   "source": [
    "# Collaborating with Git: Branches"
   ]
  },
  {
   "cell_type": "markdown",
   "metadata": {},
   "source": [
    "Branches can be super helpful in creating tweaks to your original version. There can be branches for different features or used by different teams. This can allow for variations of the same base project to be worked on simultaneously.\n",
    "\n",
    "You can also combine branches called **merging** when you might integrate the work together to share a common timeline."
   ]
  },
  {
   "cell_type": "markdown",
   "metadata": {},
   "source": [
    "<img src='https://www.atlassian.com/dam/jcr:746be214-eb99-462c-9319-04a4d2eeebfa/01.svg' width=80%/>\n",
    "\n",
    "> https://www.atlassian.com/git/tutorials/using-branches"
   ]
  },
  {
   "cell_type": "markdown",
   "metadata": {},
   "source": [
    "## Looking at our branches "
   ]
  },
  {
   "cell_type": "markdown",
   "metadata": {},
   "source": [
    "We can use the command below to see what branches are available (note these are just ones locally you made)"
   ]
  },
  {
   "cell_type": "markdown",
   "metadata": {},
   "source": [
    "```\n",
    "git branch\n",
    "```"
   ]
  },
  {
   "cell_type": "markdown",
   "metadata": {},
   "source": [
    "We can use the below line to see a prettified look at our repo's history (including branches)"
   ]
  },
  {
   "cell_type": "markdown",
   "metadata": {},
   "source": [
    "```\n",
    "git log --graph --decorate --oneline\n",
    "```"
   ]
  },
  {
   "cell_type": "markdown",
   "metadata": {},
   "source": [
    "## Checking out a ~~library book~~ a branch"
   ]
  },
  {
   "cell_type": "markdown",
   "metadata": {},
   "source": [
    "We can use **checkout** to create branches or start working on existing branch"
   ]
  },
  {
   "cell_type": "markdown",
   "metadata": {},
   "source": [
    "### Creating a new branch"
   ]
  },
  {
   "cell_type": "markdown",
   "metadata": {},
   "source": [
    "```\n",
    "git checkout -b branch_name\n",
    "```"
   ]
  },
  {
   "cell_type": "markdown",
   "metadata": {},
   "source": [
    "### Work on an existing branch"
   ]
  },
  {
   "cell_type": "markdown",
   "metadata": {},
   "source": [
    "```\n",
    "git checkout branch_name\n",
    "```"
   ]
  },
  {
   "cell_type": "markdown",
   "metadata": {},
   "source": [
    "#### Extra note on checking out a commit"
   ]
  },
  {
   "cell_type": "markdown",
   "metadata": {},
   "source": [
    "You can also checkout a _past commit_ by giving the SHA (hash) ID and work off this! This can be tricky so always be careful! Notice you don't have to give the full hash if it is unique amongst all the IDs in your repo's history."
   ]
  },
  {
   "cell_type": "markdown",
   "metadata": {},
   "source": [
    "```\n",
    "git checkout a80d3ce4\n",
    "```"
   ]
  },
  {
   "cell_type": "markdown",
   "metadata": {},
   "source": [
    "This can be really helpful if you want to roll back time and create a new branch here!"
   ]
  },
  {
   "cell_type": "markdown",
   "metadata": {},
   "source": [
    "### A note on remote branches"
   ]
  },
  {
   "cell_type": "markdown",
   "metadata": {},
   "source": [
    "If you run the `git branch` after cloning or pulling from a remote repo, you'll likely notice you will only see the `master` branch. The other remote branches are actually there too! You can run `git branch -r` to see the list of branches, including remote ones!"
   ]
  },
  {
   "cell_type": "markdown",
   "metadata": {},
   "source": [
    "Also know that to checkout a branch that was pulled from a remote repository (think GitHub again), we need to specify the branch explicitly:"
   ]
  },
  {
   "cell_type": "markdown",
   "metadata": {},
   "source": [
    "```\n",
    "git checkout origin/other_branch\n",
    "```"
   ]
  },
  {
   "cell_type": "markdown",
   "metadata": {},
   "source": [
    "# Merges"
   ]
  },
  {
   "cell_type": "markdown",
   "metadata": {},
   "source": [
    "`git merge other_branch`: Merges the **other_branch** into your current branch you're on "
   ]
  },
  {
   "cell_type": "markdown",
   "metadata": {},
   "source": [
    "<img src='https://www.atlassian.com/dam/jcr:91b1bdf5-fda3-4d20-b108-0bb9eea402b2/08.svg' width=80%/>\n",
    "\n",
    "> https://www.atlassian.com/git/tutorials/using-branches/git-merge"
   ]
  },
  {
   "cell_type": "markdown",
   "metadata": {},
   "source": [
    "If the branch you're merging into your current branch just has additional changes that your original branch doesn't have, it will simply add those changes in. We call this a **fast-forward** merge."
   ]
  },
  {
   "cell_type": "markdown",
   "metadata": {},
   "source": [
    "## When There's Conflict"
   ]
  },
  {
   "cell_type": "markdown",
   "metadata": {},
   "source": [
    "Sometimes working others can cause conflicts...\n",
    "\n",
    "What happens if we try to merge a branch but there are major differences to the same file in each branch? What's the best way to merge these? Git doesn't know and gives you a **merge conflict** to let you know you have to figure this one out manually. See the next notebook [git_advanced.ipynb](git_advanced.ipynb) for more details."
   ]
  },
  {
   "cell_type": "markdown",
   "metadata": {},
   "source": [
    "https://www.atlassian.com/git/tutorials/using-branches/merge-conflicts"
   ]
  },
  {
   "cell_type": "code",
   "execution_count": null,
   "metadata": {},
   "outputs": [],
   "source": []
  }
 ],
 "metadata": {
  "hide_input": false,
  "kernelspec": {
   "display_name": "Python 3",
   "language": "python",
   "name": "python3"
  },
  "language_info": {
   "codemirror_mode": {
    "name": "ipython",
    "version": 3
   },
   "file_extension": ".py",
   "mimetype": "text/x-python",
   "name": "python",
   "nbconvert_exporter": "python",
   "pygments_lexer": "ipython3",
   "version": "3.8.2"
  },
  "latex_envs": {
   "LaTeX_envs_menu_present": true,
   "autoclose": false,
   "autocomplete": true,
   "bibliofile": "biblio.bib",
   "cite_by": "apalike",
   "current_citInitial": 1,
   "eqLabelWithNumbers": true,
   "eqNumInitial": 1,
   "hotkeys": {
    "equation": "Ctrl-E",
    "itemize": "Ctrl-I"
   },
   "labels_anchors": false,
   "latex_user_defs": false,
   "report_style_numbering": false,
   "user_envs_cfg": false
  },
  "nbTranslate": {
   "displayLangs": [
    "*"
   ],
   "hotkey": "alt-t",
   "langInMainMenu": true,
   "sourceLang": "en",
   "targetLang": "fr",
   "useGoogleTranslate": true
  },
  "toc": {
   "base_numbering": 1,
   "nav_menu": {},
   "number_sections": true,
   "sideBar": false,
   "skip_h1_title": false,
   "title_cell": "Table of Contents",
   "title_sidebar": "Contents",
   "toc_cell": true,
   "toc_position": {},
   "toc_section_display": false,
   "toc_window_display": false
  },
  "varInspector": {
   "cols": {
    "lenName": 16,
    "lenType": 16,
    "lenVar": 40
   },
   "kernels_config": {
    "python": {
     "delete_cmd_postfix": "",
     "delete_cmd_prefix": "del ",
     "library": "var_list.py",
     "varRefreshCmd": "print(var_dic_list())"
    },
    "r": {
     "delete_cmd_postfix": ") ",
     "delete_cmd_prefix": "rm(",
     "library": "var_list.r",
     "varRefreshCmd": "cat(var_dic_list()) "
    }
   },
   "types_to_exclude": [
    "module",
    "function",
    "builtin_function_or_method",
    "instance",
    "_Feature"
   ],
   "window_display": false
  }
 },
 "nbformat": 4,
 "nbformat_minor": 2
}
